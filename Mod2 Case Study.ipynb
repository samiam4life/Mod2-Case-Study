{
 "cells": [
  {
   "cell_type": "code",
   "execution_count": 2,
   "id": "45eff800",
   "metadata": {},
   "outputs": [
    {
     "name": "stdout",
     "output_type": "stream",
     "text": [
      "Enter the student's last name (or 'ZZZ' to quit): Burk\n",
      "Enter the student's first name: Sam\n",
      "Enter the student's GPA: 3.7\n",
      "Enter the student's last name (or 'ZZZ' to quit): Meyers\n",
      "Enter the student's first name: Michael\n",
      "Enter the student's GPA: 2.9\n",
      "Enter the student's last name (or 'ZZZ' to quit): Belle\n",
      "Enter the student's first name: Anna\n",
      "Enter the student's GPA: 3.8\n",
      "Enter the student's last name (or 'ZZZ' to quit): Voorhees\n",
      "Enter the student's first name: Jason\n",
      "Enter the student's GPA: 2.4\n",
      "Enter the student's last name (or 'ZZZ' to quit): ZZZ\n",
      "Sam Burk has made the Dean's List.\n",
      "Michael Meyers did not make either list.\n",
      "Anna Belle has made the Dean's List.\n",
      "Jason Voorhees did not make either list.\n"
     ]
    }
   ],
   "source": [
    "#Name: Samantha Burk\n",
    "#File Name: Mod2 Case Study\n",
    "#Description: This program will take student's names and GPA's and store them until ZZZ is entered for a last name. This will\n",
    "#stop the code and dsiplay whether or not the student made the Dean's List, the Honor's List, or neither based on their \n",
    "#GPA. \n",
    "\n",
    "studentNames = []\n",
    "studentGpas = []\n",
    "\n",
    "while True:\n",
    "    last_name = input(\"Enter the student's last name (or 'ZZZ' to quit): \").strip()\n",
    "\n",
    "    if last_name == 'ZZZ':\n",
    "        break\n",
    "\n",
    "    first_name = input(\"Enter the student's first name: \")\n",
    "    gpa = float(input(\"Enter the student's GPA: \"))\n",
    "\n",
    "    # Add student information to lists\n",
    "    studentNames.append((first_name, last_name))\n",
    "    studentGpas.append(gpa)\n",
    "\n",
    "# Test and print qualifications\n",
    "for i in range(len(studentNames)):\n",
    "    first_name, last_name = studentNames[i]\n",
    "    gpa = studentGpas[i]\n",
    "\n",
    "    if gpa >= 3.5:\n",
    "        print(f\"{first_name} {last_name} has made the Dean's List.\")\n",
    "    elif gpa >= 3.25:\n",
    "        print(f\"{first_name} {last_name} has made the Honor Roll.\")\n",
    "    else:\n",
    "        print(f\"{first_name} {last_name} did not make either list.\")"
   ]
  },
  {
   "cell_type": "code",
   "execution_count": null,
   "id": "30b8013e",
   "metadata": {},
   "outputs": [],
   "source": []
  }
 ],
 "metadata": {
  "kernelspec": {
   "display_name": "Python 3 (ipykernel)",
   "language": "python",
   "name": "python3"
  },
  "language_info": {
   "codemirror_mode": {
    "name": "ipython",
    "version": 3
   },
   "file_extension": ".py",
   "mimetype": "text/x-python",
   "name": "python",
   "nbconvert_exporter": "python",
   "pygments_lexer": "ipython3",
   "version": "3.11.5"
  }
 },
 "nbformat": 4,
 "nbformat_minor": 5
}
